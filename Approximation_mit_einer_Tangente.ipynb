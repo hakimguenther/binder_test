{
 "cells": [
  {
   "cell_type": "code",
   "execution_count": 1,
   "metadata": {},
   "outputs": [],
   "source": [
    "# Import der benötigten Module\n",
    "import numpy as np\n",
    "import matplotlib.pyplot as plt\n",
    "import math\n",
    "from ipywidgets import interactive, widgets\n",
    "import pandas as pd\n",
    "%matplotlib inline"
   ]
  },
  {
   "cell_type": "markdown",
   "metadata": {},
   "source": [
    "<a id=\"lineare\"></a>\n",
    "# lineare Approximation mit einer Tangente\n",
    "\n",
    "\n",
    "Für diese Form, der Approximation, benötigt man eine Stelle $a$, sowie den dazugehörigen Funktionswert $ f(a) = A $ und die Steigung an dieser Stelle $f'(a) = B$.\n",
    "<br> Als Geradengleichung würde dies so aussehen:\n"
   ]
  },
  {
   "cell_type": "markdown",
   "metadata": {},
   "source": [
    "\n",
    "\n",
    "$F(x)  \\; =\\quad A + Bx \\Rightarrow F(a) = A + Ba = f(a)$ <br>\n",
    "$F'(x) = \\; \\; \\;\\qquad B \\Rightarrow \\;F'(a) = \\qquad B = f'(a) $"
   ]
  },
  {
   "cell_type": "markdown",
   "metadata": {},
   "source": [
    "Als nächstes wird $F(a)$ nach $A$ umgestellt und bei $F(x)$ eingesetzt, sowie $B$ mit $f'(a)$ ersetzt. Damit wird mit dem ersten Summanden auch klarer, dass wir hier eine Erweiterung aus der ersten Approximationsform haben. "
   ]
  },
  {
   "cell_type": "markdown",
   "metadata": {},
   "source": [
    "\n",
    "$F(x) = A+Bx = \\overbrace{f(a)- af'(a)}^A+ f'(a) \\cdot x$<br>\n",
    "$= f(a) + f'(a) \\cdot(x-a)$"
   ]
  },
  {
   "cell_type": "markdown",
   "metadata": {},
   "source": [
    "Nun ein Beispiel:\n"
   ]
  },
  {
   "cell_type": "markdown",
   "metadata": {},
   "source": [
    "$f(x) = sin(x)$<br>\n",
    "$f'(x) = cos(x)$<br>\n",
    "$a = 0 $ <br>\n",
    "$f(a) = 0$ <br>\n",
    "$f'(a) = 1$ <br><br>\n",
    "Dann wird eingesetzt:<br><br>\n",
    "$F(x) = A+Bx = f(a)- af'(a)+ f'(a) \\cdot x$<br>\n",
    "$= f(a) + f'(a) \\cdot(x-a)$ <br>\n",
    "$= 0 + 1 \\cdot(x- 0)$<br>\n",
    "$= x$"
   ]
  },
  {
   "cell_type": "code",
   "execution_count": 2,
   "metadata": {},
   "outputs": [
    {
     "data": {
      "text/html": [
       "<div>\n",
       "<style scoped>\n",
       "    .dataframe tbody tr th:only-of-type {\n",
       "        vertical-align: middle;\n",
       "    }\n",
       "\n",
       "    .dataframe tbody tr th {\n",
       "        vertical-align: top;\n",
       "    }\n",
       "\n",
       "    .dataframe thead th {\n",
       "        text-align: right;\n",
       "    }\n",
       "</style>\n",
       "<table border=\"1\" class=\"dataframe\">\n",
       "  <thead>\n",
       "    <tr style=\"text-align: right;\">\n",
       "      <th></th>\n",
       "      <th>x</th>\n",
       "      <th>f(x) = sin(x)</th>\n",
       "      <th>g(x) = x</th>\n",
       "      <th>Differenz</th>\n",
       "    </tr>\n",
       "  </thead>\n",
       "  <tbody>\n",
       "    <tr>\n",
       "      <th>0</th>\n",
       "      <td>-1.00</td>\n",
       "      <td>-0.841471</td>\n",
       "      <td>-1.00</td>\n",
       "      <td>0.158529</td>\n",
       "    </tr>\n",
       "    <tr>\n",
       "      <th>1</th>\n",
       "      <td>-0.75</td>\n",
       "      <td>-0.681639</td>\n",
       "      <td>-0.75</td>\n",
       "      <td>0.068361</td>\n",
       "    </tr>\n",
       "    <tr>\n",
       "      <th>2</th>\n",
       "      <td>-0.50</td>\n",
       "      <td>-0.479426</td>\n",
       "      <td>-0.50</td>\n",
       "      <td>0.020574</td>\n",
       "    </tr>\n",
       "    <tr>\n",
       "      <th>3</th>\n",
       "      <td>-0.25</td>\n",
       "      <td>-0.247404</td>\n",
       "      <td>-0.25</td>\n",
       "      <td>0.002596</td>\n",
       "    </tr>\n",
       "    <tr>\n",
       "      <th>4</th>\n",
       "      <td>0.00</td>\n",
       "      <td>0.000000</td>\n",
       "      <td>0.00</td>\n",
       "      <td>0.000000</td>\n",
       "    </tr>\n",
       "    <tr>\n",
       "      <th>5</th>\n",
       "      <td>0.25</td>\n",
       "      <td>0.247404</td>\n",
       "      <td>0.25</td>\n",
       "      <td>0.002596</td>\n",
       "    </tr>\n",
       "    <tr>\n",
       "      <th>6</th>\n",
       "      <td>0.50</td>\n",
       "      <td>0.479426</td>\n",
       "      <td>0.50</td>\n",
       "      <td>0.020574</td>\n",
       "    </tr>\n",
       "    <tr>\n",
       "      <th>7</th>\n",
       "      <td>0.75</td>\n",
       "      <td>0.681639</td>\n",
       "      <td>0.75</td>\n",
       "      <td>0.068361</td>\n",
       "    </tr>\n",
       "    <tr>\n",
       "      <th>8</th>\n",
       "      <td>1.00</td>\n",
       "      <td>0.841471</td>\n",
       "      <td>1.00</td>\n",
       "      <td>0.158529</td>\n",
       "    </tr>\n",
       "  </tbody>\n",
       "</table>\n",
       "</div>"
      ],
      "text/plain": [
       "      x  f(x) = sin(x)  g(x) = x  Differenz\n",
       "0 -1.00      -0.841471     -1.00   0.158529\n",
       "1 -0.75      -0.681639     -0.75   0.068361\n",
       "2 -0.50      -0.479426     -0.50   0.020574\n",
       "3 -0.25      -0.247404     -0.25   0.002596\n",
       "4  0.00       0.000000      0.00   0.000000\n",
       "5  0.25       0.247404      0.25   0.002596\n",
       "6  0.50       0.479426      0.50   0.020574\n",
       "7  0.75       0.681639      0.75   0.068361\n",
       "8  1.00       0.841471      1.00   0.158529"
      ]
     },
     "execution_count": 2,
     "metadata": {},
     "output_type": "execute_result"
    },
    {
     "data": {
      "image/png": "[encoded data removed]",
      "text/plain": [
       "<Figure size 1296x324 with 3 Axes>"
      ]
     },
     "metadata": {
      "needs_background": "light"
     },
     "output_type": "display_data"
    }
   ],
   "source": [
    "plt.figure(figsize = (18, 4.5))\n",
    "linspace1 = [(-10,10,1000),(-1.5,4,100),(-1,1,100)]\n",
    "lim = [(-5, 10),(-1.5, 4),(-1, 1)]\n",
    "\n",
    "for i in range(3):\n",
    "        start, stop, length = linspace1[i]\n",
    "        x = np.linspace(start, stop, length)\n",
    "        y = np.sin(x)\n",
    "        plt.subplot(1, 3, i + 1)\n",
    "        plt.xlim(lim[i])\n",
    "        plt.ylim(lim[i])\n",
    "        plt.plot(x,y,label=\"sin()\")\n",
    "        plt.plot(x,x,label=\"x\")\n",
    "        plt.axhline(0, color=\"red\")\n",
    "        plt.legend()\n",
    "        plt.grid()\n",
    "\n",
    "\n",
    "x = [-1,-0.75,-0.5,-0.25,0,0.25,0.5,0.75,1]\n",
    "sin_x = np.sin(x)\n",
    "diff = sin_x - x\n",
    "diff = abs(diff) # bestimmt für jeden Wert der Liste den Betrags-Wert\n",
    "\n",
    "data = {'x':x,                  # Dictionary, äquivalent zu Map in Java\n",
    "        'f(x) = sin(x)':sin_x,\n",
    "        'g(x) = x':x,\n",
    "        'Differenz': diff\n",
    "        }\n",
    "df = pd.DataFrame(data)         # aus dem Dictionary wir eine Tabelle gemacht\n",
    "\n",
    "  \n",
    "df"
   ]
  },
  {
   "cell_type": "markdown",
   "metadata": {},
   "source": [
    "In rot ist eine konstante Approximation an der Stelle $0$ zu erkennen. Nur durch die Erhöhung des Funktionsgrades, um eins, hat man bereits eine signifikant erhöhte Genauigkeit, aber diese Beobachtung kann man nur in unmittelbarer Nähe des Entwicklungspunkts machen. Das können Sie auch in der oberen Tabelle erkennen. Ab der Stelle eins gibt es bereits eine Fehlerhöhe von $0.15$. "
   ]
  },
  {
   "cell_type": "markdown",
   "metadata": {},
   "source": [
    " <h4>Aufgaben</h4>"
   ]
  },
  {
   "cell_type": "markdown",
   "metadata": {},
   "source": [
    "1)\n",
    "\n",
    "Berrechnen Sie für die Funktion $f(x) = ln(x)$ eine lineare Approximation an der Stelle $1$.\n",
    "\n",
    "2)\n",
    "\n",
    "Ploten Sie die Funktion aus $1$ und erstellen Sie eine Tabelle, eines relevanten Intervalls, um die Stelle $a$. Es reicht ein Plot, es müssen nicht drei, wie oben, sein. Verwenden Sie hierfür den Code aus dem obigen Beispiel."
   ]
  }
 ],
 "metadata": {
  "interpreter": {
   "hash": "48826ffda6e599fc6010b0266a52873d3d62100526aab9a973bf1b9cfa73cd9f"
  },
  "kernelspec": {
   "display_name": "Python 3.7.11 ('py37')",
   "language": "python",
   "name": "python3"
  },
  "language_info": {
   "codemirror_mode": {
    "name": "ipython",
    "version": 3
   },
   "file_extension": ".py",
   "mimetype": "text/x-python",
   "name": "python",
   "nbconvert_exporter": "python",
   "pygments_lexer": "ipython3",
   "version": "3.7.11"
  },
  "orig_nbformat": 4
 },
 "nbformat": 4,
 "nbformat_minor": 2
}
