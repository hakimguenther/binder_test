{
 "cells": [
  {
   "cell_type": "markdown",
   "metadata": {
    "id": "zxgCE-DGfsqC"
   },
   "source": [
    "# **Funktionen - Grundbegriffe, Beispiele und Eigenschaften**\n",
    "<a id=\"definition\"></a>\n",
    "\n",
    "Dieses Notebook soll Ihnen dabei helfen, den analytischen Begriff der Funktion zu vertiefen. Sie werden dazu Grundbegriffe kennenlernen, die Sie durchaus in der Schule kennengelernt haben und werden entsprechende Beispiele zu wichtigen Funktionen unter die Lupe nehmen. \n",
    "\n",
    "<b> Python Grundlagen: </b> Schleifen, Kontrollstrukturen, iterative und induktive Algorithmen, Plots. <br>\n",
    "<b> Math. Grundlagen:</b>  Abiturniveau Analysis<br>\n",
    "\n",
    "<b>Inhaltsverzeichniss:</b> <br>\n",
    "<ul>\n",
    " <li><a href=\"#funktion\">Was ist eine Funktion?</a></li>\n",
    " <li><a href=\"#eigenschaften\">Eigenschaften</a></li>\n",
    " <li><a href=\"#polynom\">Ganzrationale Funktionen (Polynomfunktionen)</a></li>\n",
    " <li><a href=\"#polynomdivision\">Polynomdivision</a></li>\n",
    " <li><a href=\"#betragsfunktion\">Die Betragsfunktion</a></li>\n",
    " <li><a href=\"#exponentialfunktion\">Die Exponentialfunktion</a></li>\n",
    " <li><a href=\"#umkehrfunktion\">Die Umkehrfunktion: injektiv, surjektiv, bijektiv!</a></li>\n",
    " <li><a href=\"#arkussinus\">Die Arkussinus-Funktion</a></li>\n",
    "</ul>\n",
    "</p> \n",
    "\n",
    "\n",
    "### Was ist eine Funktion?\n",
    "<a id=\"funktion\"></a>\n",
    "\n",
    "Sie kennen die Situation sicherlich aus dem Supermarkt: Ein kg Äpfel kostet Sie etwa 3,49€. Sie wiegen 3 Äpfel, bekommen den Aufkleber ausgedruckt und sollen dafür 2,09€ bezahlen. Wo ist der Zusammenhang? Nun, dem Informatiksystem \"digitale Waage\" wird durchs Wiegen mitgeteilt, dass die 3 Äpfel 600 g wiegen. Anschließend muss also eine <i>Umrechnung</i> stattfinden, da nur der Preis pro Kilogramm angegeben ist. Die beiden Kenngrößen <i>Gewicht der Äpfel (in kg)</i> und <i>Preis (in €)</i> werden also in Beziehung gesetzt. Betrachten wir die Situation mathematisch, dann besteht hier formal ein funktionaler Zusammenhang zwischen zwei Größen: Genauer können wir sowohl das Gewicht als auch den Preis der Äpfel als Mengen $M$ und $N$ auffassen, indem wir beiden Kenngrößen dimensionslos die Menge der rellen Zahlen zuschreiben, d.h. wir setzen $M =N = \\Reals$. Dann haben wir eine <b>eindeutige Zuordnung</b> $$f \\colon M \\longrightarrow N, \\quad x \\mapsto f(x) $$  wobei jedem Wert $x \\in M$ eindeutig ein Wert $ y = f(x) \\in N$ zugeordnet wird. Solche Zuordnungen nennen wir <b>Funktionen</b> oder <b>Abbildungen</b>. Der dazugehörige Term $f(x)$ ist der Funktionswert von $f$ an der Stelle $x$. Der sogenannte Definitionsbereich der Werte für $x$ kann auch nur eine Teilmenge $D \\subseteq M$ sein.\n",
    "\n",
    "In unserem Beispiel könnte die digitale Waage also für die gewogenen Äpfel den Preis mithilfe der Funktion $$f \\colon [0, \\infty) \\subseteq \\Reals \\longrightarrow \\Reals, \\quad f(x) = 3{,}49 \\cdot x \\quad $$ ausdrücken, wenn $x$ in kg und $f(x)$ in € angegeben sind. Infolgedessen kosten 3 Äpfel, die 600 g = 0,6 kg wiegen, demnach $f(0{,}6) = 3{,}49 \\cdot 0{,}6 = 2{,}094$, d.h. 2,09€, wie angegeben.\n",
    "\n",
    "Was ist zur Abgrenzung dann <b>keine Funktion</b>? Eine mehrfache Zuordnung von $y$-Werten zu einem $x$-Wert würde die Eindeutigkeit verletzen, sodass es sich in diesem Fall um keine Funktion mehr handeln kann. Das kann man schnell geometrisch erkennen, wenn man sich den Graphen einer Funktion $f$ anschaut: Das sind alle möglichen eingetragenen Punktepaare $(x,f(x))$ in einem kartesischen Koordinatensystem. Würde man nun eine parallele Gerade zur $y$-Achse einzeichnen und hätte diese Gerade irgendwo mehr als einen Schnittpunkt mit einem Graphen, kann es sich nicht um eine Funktion handeln. \n",
    "\n",
    "Im Folgenden sollen Sie sich Beispiele dazu plotten lassen und entscheiden, ob es sich um Funktionen oder keine Funktionen handelt. Führen Sie zunächst den nachfolgenden Code aus, um die benötigten Dateien zu importieren.\n",
    "\n",
    "<i>Bemerkung</i>: Sie werden Sich in diesem Notebook nur mit Mengen $M = N = \\Reals$ beschäftigen, d.h. Sie betrachten erst einmal Funktionen $f \\colon D \\subseteq \\Reals \\longrightarrow \\Reals.$ Einige davon sind Ihnen sicherlich schon in der Schule begegnet. Zur Vereinfachung werden wir häufig nur $f$ statt $f \\colon D \\subseteq \\Reals \\longrightarrow \\Reals$ schreiben, wenn klar ist, um welchen Definitionsbereich es sich handelt."
   ]
  },
  {
   "cell_type": "code",
   "execution_count": 1,
   "metadata": {
    "id": "nNXgd6_zX7Xs"
   },
   "outputs": [],
   "source": [
    "# Import der benötigten Module\n",
    "import numpy as np\n",
    "import matplotlib.pyplot as plt\n",
    "from IPython.display import display, Latex\n",
    "from sympy import roots as sympyRoots\n",
    "from ipywidgets import interactive, widgets\n",
    "from sympy import Symbol"
   ]
  },
  {
   "cell_type": "markdown",
   "metadata": {
    "id": "b3Cm0f0x4xLo"
   },
   "source": [
    "### Eigenschaften\n",
    "<a id=\"eigenschaften\"></a>\n",
    "\n",
    "Ist klar, dass es sich um eine Funktion handelt, dann können Sie über <i>Bild</i> und <i>Urbild</i> einer Funktion sprechen. Zum Beispiel ist für die Funktion $ f \\colon \\left[ 0, \\infty \\right) \\longrightarrow \\Reals, f(x) = \\sqrt{x} $ das Bild der Teilmenge $U = \\lbrace 0,1,2 \\rbrace $ gegeben durch $$f(U) = \\lbrace f(u) \\colon u \\in U \\rbrace = \\lbrace 0, 1, \\sqrt{2} \\rbrace.$$ Umgekehrt ist zu $ V = \\lbrace -1 \\rbrace $ das Urbild $$f^{-1}(V) = \\empty,$$ da $-1$ für kein $x \\geqslant 0$ unter $\\sqrt{x}$ getroffen wird.\n",
    "\n",
    "Wie die in diesem Beispiel vorgeestellte Wurzelfunktion werden Sie sich in diesem Notebook  mit einer ganzen Reihe von Funktionen beschäftigen, von denen Sie einige wiedererkennen und manche für Sie neu sein werden. \n",
    "\n",
    "*   Ganzrationale Funktionen (Polynomfunktionen)\n",
    "    *   Anwendung: Polynomdivison\n",
    "*   Betragsfunktion\n",
    "*   Exponentialfunktion\n",
    "*   Umkehrfunktion:\n",
    "    * Anwendung: Logarithmusfunktion\n",
    "*   Trigonometrische Funktionen\n",
    "\n",
    "Wenn es darum geht, solche Funktionen zu studieren, dann gibt es wiederkehrende Konzepte, die Sie beherrschen müssen. Dazu zählen zum Beispiel die Schnittpunkte mit den Koordinatenachsen. Ist $f \\colon D \\subseteq \\Reals \\longrightarrow \\Reals$ eine Funktion und existiert eine Stelle $x \\in D,$ für die $f(x) = 0$ gilt, so heißt $x$ <b>Nullstelle</b> von $f$. Der Wert $y = f(0)$ wird als <b>$y$-Achsenabschnitt</b> bezeichnet.\n",
    "\n",
    "<center><img src=\"Koordinatenschnittpunkte.png\"  width=\"20%\" height=\"20%\"></center><br>\n"
   ]
  },
  {
   "cell_type": "markdown",
   "metadata": {},
   "source": [
    "<div style= \"color: black;background-color: powderblue ;margin: 10 px auto; padding: 10px; border-radius: 10px\">\n",
    "    <p style=\"font-size:12pt; text-align:center; color:   black; background-color: lightskyblue ;margin: 10 px auto; padding: 10px; border-radius: 10px\" id=\"1\"><b>Aufgabe 1</b>  </p> \n",
    "\n",
    "Gegeben seien Graphen $f,g, h$ und $j$. Führen Sie den folgenden Code aus und bestimmen Sie, ob es sich bei den Graphen um Graphen von Funktionen handelt."
   ]
  },
  {
   "cell_type": "code",
   "execution_count": 2,
   "metadata": {},
   "outputs": [
    {
     "data": {
      "application/vnd.jupyter.widget-view+json": {
       "model_id": "d9ca9e5f828c47f1af2382a7cb87219d",
       "version_major": 2,
       "version_minor": 0
      },
      "text/plain": [
       "interactive(children=(Text(value='f', description='graph'), FloatSlider(value=-4.0, description='slider', max=…"
      ]
     },
     "execution_count": 2,
     "metadata": {},
     "output_type": "execute_result"
    }
   ],
   "source": [
    "# Führen Sie diesen Code aus\n",
    "def plot(graph, slider):\n",
    "    if(graph != 'f' and graph != 'g' and graph != 'h' and graph != 'j'):\n",
    "        print('Bitte geben Sie einen zulässigen Graphen an')\n",
    "    else:\n",
    "        x = np.arange(-10, 10, 0.01)\n",
    "        y = x**2 -2\n",
    "        if(graph == 'g'):\n",
    "            y = np.sin(x)\n",
    "        elif(graph == 'h'):\n",
    "            t = np.arange(0, 2*np.pi, 0.01)\n",
    "            x = 2*np.cos(t)\n",
    "            y = 2*np.sin(t)\n",
    "        elif(graph == 'j'):\n",
    "            y = np.log(x**2)\n",
    "\n",
    "        plt.plot(x, y, lw=2)\n",
    "        ax = plt.subplot()\n",
    "        ax.set_aspect('equal')  \n",
    "        ax.axvline(x=0,color=\"k\",ls=\"-\")\n",
    "        ax.axhline(y=0,color=\"k\",ls=\"-\") \n",
    "        ax.axvline(x= slider,color=\"r\",ls=\"--\")\n",
    "        plt.xlim(-10, 10)\n",
    "        plt.ylim(-5, 5)\n",
    "        plt.show()\n",
    "\n",
    "            \n",
    "interactive(plot, graph='f', slider = widgets.FloatSlider(min = -10, max = 10, step = 0.01, value =-4))"
   ]
  },
  {
   "cell_type": "markdown",
   "metadata": {},
   "source": [
    "### Ganzrationale Funktionen (Polynomfunktionen)\n",
    "<a id=\"polynom\"></a>\n",
    "\n",
    "Funktionen diesen Typs sind Ihnen allen bekannt. Ganzrationale Funktionen sind durch ihren Funktionsterm $$f(x) = a_nx^n + a_{n-1}x^{n-1}+ \\ldots + a_1x + a_0$$ für ein $n \\in \\N$ mit $a_i \\in \\Reals$ und $a_n \\neq 0$ für $ i = 1,\\dots, n$ charakterisiert. Der Aufbau verrät schon, warum man auch von Polynomfunktionen spricht und $f$ dann den Grad $n$ trägt. \n",
    "\n",
    "Bereits im Eingangsbeispiel haben Sie sich mit einer affin-linearen Funktion, also einer Polynomfunktion ersten oder nullten Grades beschäftigt. Solche Funktionen $f$ sind vom Typ $$f(x) = a_1 x + a_0$$ wobei $a_1, a_0 \\in \\Reals $ gilt und auch  der Spezialfall $a_1 = 0$ zugelassen ist (Konstante Polynomfunktion!). Der Graph von $f$ entspricht einer Geraden, wobei $a_1$ als Steigung der Geraden bezeichnet wird. Sie sehen bereits, dass $a_0$ der $y$-Achsenabschnitt ist. \n",
    "\n",
    "Polynomfunktionen der Gestalt $f(x) = a_2x^2+a_1x +a_0$ werden Parabeln oder einfach quadratische Funktionen genannt. Das rührt daher, da der Graph einem parabelförmigen Bogen nachempfunden ist, wie Sie es vielleicht von einer Satellitenschüssel (Parabolantenne) kennen. Später in der linearen Algebra werden Sie häufig Nullstellen solcher quadratischer Funktionen berechnen müssen. Daher sollen Sie dies in der Übung trainieren.\n",
    "\n",
    "<div style= \"color: black;background-color: powderblue ;margin: 10 px auto; padding: 10px; border-radius: 10px\">\n",
    "    <p style=\"font-size:12pt; text-align:center; color:   black; background-color: lightskyblue ;margin: 10 px auto; padding: 10px; border-radius: 10px\" id=\"1\"><b>Aufgabe 2</b>  </p> \n",
    "\n",
    "1. Zeichnen Sie den Graphen der Funktionen $f$ und $g$ mit $f(x) = -2x+5$ und $g(x) = x^2-5x+5$. Vergleichen Sie Ihren Graphen mit der Ausgabe in der Code-Zelle. \n",
    "\n",
    "2. Schreiben Sie eine Methode <code>plot</code>, die eine Polynomfunktion beliebigen Grades im Intervall $\\left[-10,10 \\right]$ plottet. Ergänzen Sie dazu die Code-Zelle und führen Sie sie aus.\n",
    "   Hinweis: Potenzen werden in Python über ** statt ^ gelesen.\n",
    "\n",
    "3. Berechnen Sie die Nullstellen der Funktion $f$ mit $f(x) = x^2-3x-4$. \n",
    "\n",
    "4. Schreiben Sie anschließend eine Methode <code>roots(a2, a1, a0)</code>, die die Nullstellen einer Polynomfunktion zweiten Grades bestimmt, indem die Parameter $a_2,a_1,a_0$ übergeben und die Nullstellen (sofern vorhanden) zurückgegeben werden. Überprüfen Sie Ihr Ergebnis aus Teilaufgabe 3 und vergleichen Sie die Funktion ebenfalls mit <code>sympy</code>.\n",
    "\n",
    "5. Quadratische Funktionen können auch in der Form $f(x) = a(x-d)^2+e$ geschrieben werden, die Scheitelpunktsform. Führen Sie die Code-Zelle aus und notieren Sie Ihre Beobachtungen bzgl. Streckung/Stauchung und Verschiebung des Graphen von $f$ zu den Parametern $a,d,e$ mithilfe der Slider."
   ]
  },
  {
   "cell_type": "code",
   "execution_count": 3,
   "metadata": {},
   "outputs": [
    {
     "data": {
      "image/png": "[encoded data removed]",
      "text/plain": [
       "<Figure size 700x700 with 1 Axes>"
      ]
     },
     "metadata": {},
     "output_type": "display_data"
    }
   ],
   "source": [
    "# Teilaufgabe 1\n",
    "\n",
    "plt.figure(figsize=(7,7))\n",
    "\n",
    "x = np.arange(-20, 20, 0.01)\n",
    "\n",
    "# Parabel zeichnen\n",
    "y_p = x**2 -5*x+5\n",
    "plt.plot(x, y_p, lw=2)\n",
    "\n",
    "# Gerade zeichnen        \n",
    "y_g = -2*x+5\n",
    "plt.plot(x, y_g, lw=2)\n",
    "\n",
    "ax = plt.subplot()\n",
    "ax.set_aspect('equal')  \n",
    "ax.axvline(x=0,color=\"k\",ls=\"-\")\n",
    "ax.axhline(y=0,color=\"k\",ls=\"-\") \n",
    "plt.xlim(-5, 10)\n",
    "plt.ylim(-5, 15)\n",
    "plt.show()\n",
    "\n"
   ]
  },
  {
   "cell_type": "code",
   "execution_count": 4,
   "metadata": {},
   "outputs": [
    {
     "data": {
      "image/png": "[encoded data removed]",
      "text/plain": [
       "<Figure size 1000x1000 with 1 Axes>"
      ]
     },
     "metadata": {},
     "output_type": "display_data"
    }
   ],
   "source": [
    "# Teilaufgabe 2. Führen Sie diesen Code nach Bearbeitung aus.\n",
    "\n",
    "def plot(x,y): \n",
    "        plt.figure(figsize=(10, 10))\n",
    "        plt.plot(x,y)\n",
    "        ax = plt.subplot()\n",
    "        ax.set_aspect('equal')  \n",
    "        ax.axvline(x=0,color=\"k\",ls=\"-\")\n",
    "        ax.axhline(y=0,color=\"k\",ls=\"-\") \n",
    "        plt.xlim(-10, 10)\n",
    "        plt.ylim(-10, 10)\n",
    "        plt.show()\n",
    "\n",
    "x = np.arange(-10, 10, 0.01)        \n",
    "y = x**3-5*x\n",
    "plot(x,y)"
   ]
  },
  {
   "cell_type": "code",
   "execution_count": 5,
   "metadata": {},
   "outputs": [
    {
     "data": {
      "text/latex": [
       "Die Nullstellen sind $x_1 = -2 -\\sqrt{3}\\approx -3.732050807568877 $ und $x_2 = -2 +\\sqrt{3} \\approx -0.2679491924311228 $"
      ],
      "text/plain": [
       "<IPython.core.display.Latex object>"
      ]
     },
     "metadata": {},
     "output_type": "display_data"
    },
    {
     "name": "stdout",
     "output_type": "stream",
     "text": [
      "Die Ausgabe über sympy: {-2 - sqrt(3): 1, -2 + sqrt(3): 1}\n"
     ]
    }
   ],
   "source": [
    "# Teilaufgabe 4\n",
    "from sympy.abc import x\n",
    "def roots(a2,a1,a0):\n",
    "\n",
    "    ### Code hier einfügen \n",
    "\n",
    "    a = -a1/(2*a2)\n",
    "    if(a.is_integer()):\n",
    "        a = int(a)\n",
    "\n",
    "    diskriminante = a**2-a0/a2\n",
    "\n",
    "    if(diskriminante.is_integer()):\n",
    "        diskriminante = int(diskriminante)\n",
    "    x1, x2 = (0, 0)\n",
    "\n",
    "    if(diskriminante > 0):\n",
    "        x1 = a - np.sqrt(diskriminante)\n",
    "        x2 = a + np.sqrt(diskriminante)\n",
    "        display(Latex(r'Die Nullstellen sind $x_1 = {x} -\\sqrt{{{diskriminante}}}\\approx {x_rounded} $ und $x_2 = {x} +\\sqrt{{{diskriminante}}} \\approx {y_rounded} $'.format(x = a, diskriminante = diskriminante, x_rounded = x1, y_rounded = x2)))\n",
    "    elif(diskriminante == 0):\n",
    "        display(Latex(r'Die doppelte Nullstelle ist $x = {x} $.'.format(x = a)))\n",
    "    else:\n",
    "        print('Es gibt keine reellen Nullstellen!')\n",
    "\n",
    "    ### Code zu ende\n",
    "\n",
    "roots(1,4,1)\n",
    "\n",
    "print('Die Ausgabe über sympy:', sympyRoots(x**2+4*x+1))"
   ]
  },
  {
   "cell_type": "code",
   "execution_count": 6,
   "metadata": {},
   "outputs": [
    {
     "data": {
      "text/latex": [
       "Abgebildet ist der Graph der Funktion $f$ mit $f(x)=a(x-d)^2+e$"
      ],
      "text/plain": [
       "<IPython.core.display.Latex object>"
      ]
     },
     "metadata": {},
     "output_type": "display_data"
    },
    {
     "data": {
      "application/vnd.jupyter.widget-view+json": {
       "model_id": "c7d8e0b2a9d34a54b2b6d287582469d8",
       "version_major": 2,
       "version_minor": 0
      },
      "text/plain": [
       "interactive(children=(FloatSlider(value=1.0, description='a', max=10.0, min=-10.0, step=0.01), FloatSlider(val…"
      ]
     },
     "execution_count": 6,
     "metadata": {},
     "output_type": "execute_result"
    }
   ],
   "source": [
    "# Teilaufgabe 5\n",
    "\n",
    "def plot(a,d,e):\n",
    "        \n",
    "        x = np.arange(-10, 10, 0.01)\n",
    "        y = a*(x-d)**2 +e\n",
    "        plt.plot(x, y, lw=2)\n",
    "        ax = plt.subplot()\n",
    "        ax.set_aspect('equal')  \n",
    "        ax.axvline(x=0,color=\"k\",ls=\"-\")\n",
    "        ax.axhline(y=0,color=\"k\",ls=\"-\") \n",
    "        plt.xlim(-10, 10)\n",
    "        plt.ylim(-10, 10)\n",
    "        if(d > 0 and e >0):\n",
    "                print('{a}*(x - {d})^2 + {e}'.format( a = np.round(a), d = np.round(d), e = np.round(e)))\n",
    "        elif(d < 0 and e > 0):\n",
    "                print('{a}*(x + {d})^2 + {e}'.format( a = np.round(a), d = (-1)*np.round(d), e = np.round(e)))\n",
    "        plt.show()\n",
    "\n",
    "display(Latex(r'Abgebildet ist der Graph der Funktion $f$ mit $f(x)=a(x-d)^2+e$'))            \n",
    "interactive(plot, a = widgets.FloatSlider(min = -10, max = 10, step = 0.01, value =1),d = widgets.FloatSlider(min = -10, max = 10, step = 0.01, value =0),e = widgets.FloatSlider(min = -10, max = 10, step = 0.01, value =0))"
   ]
  },
  {
   "cell_type": "markdown",
   "metadata": {},
   "source": [
    "## Anwendung: Polynomdivision\n",
    "<a id=\"polynomdivision\"></a>\n",
    "\n",
    "Wenn man die Nullstelle einer Polynomfunktion $p$ höheren Grades bestimmen möchte, so kann es hilfreich sein, die Polynomdivision zu verwenden. Wir nehmen als Beispiel die Polynomfunktion $p(x) = -x^3+x^2+x+2$ und haben die Nullstelle $ x = 2$ durch Ausprobieren herausgefunden. Alle weiteren Nullstellen können wir mit weniger Aufwand bestimmen, wenn wir die Funktion $p$ im Grad reduzieren. Dafür teilen wir $p(x)$ durch die gefundene Nullstelle $x = 2$ als Linearfaktor $(x-2)$. Das Ganze funktioniert ganz ähnlich zu einer schriftlichen Division, wie in der folgenden Abbildung vorgeführt wird \n",
    "\n",
    "<center><img src=\"Polynomdivison.png\"  width=\"30%\" height=\"30%\"></center><br>\n",
    "\n",
    "Der erste Schritt ist, sowohl im Dividenden $p(x)$ als auch Divisor $(x-2)$ das Monom mit höchstem Grad zu identifizieren: das sind $-x^3$ und $x$. Anschließend werde beide dividiert, das ergibt also $ -x^3 \\colon x = -x^2$ als Ergebnis. Nun überlegt man sich, was das Restpolynom sein muss, wenn man das zuvor berechnete Ergebnis mit dem Divisor multipliziert und schließlich von $p(x)$ subtrahiert. In der Abbildung entspricht dies der zweiten Zeile unter $p(x)$: Übrig bleibt das Polynom $-x^2+x$, welches als Nächstes durch $(x-2)$ dividiert wird. Man überlegt sich schnell, dass sich die Vorgehensschritte nun wiederholen und der Algorithmus abbricht, wenn die Restpolynomfunktion entweder konstant $0$ oder vom Grad kleiner als der Divisor ist. \n",
    "\n",
    "Sie sollen nun diesen Algorithmus in Python implementieren.\n",
    "\n",
    "<div style= \"color: black;background-color: powderblue ;margin: 10 px auto; padding: 10px; border-radius: 10px\">\n",
    "    <p style=\"font-size:12pt; text-align:center; color:   black; background-color: lightskyblue ;margin: 10 px auto; padding: 10px; border-radius: 10px\" id=\"1\"><b>Aufgabe 3</b>  </p> \n",
    "\n",
    "Implementieren Sie die Methode <code>polDiv(p, q)</code>. Dabei sind $p$ und $q$ zwei Polynome, deren Quotient $\\dfrac{p}{q}$ berechnet wird. \n",
    "\n",
    "Die Parameter der Methode sind wie folgt zu verstehen: <code>p</code> und <code>q</code> sollen als Liste aufgefasst werden, wobei die Elemente absteigend die Koeffizienten der Polynomfunktionen darstellen sollen. Ist zum Beispiel $p(x) = 2x^2-2x+1$, so würde $p$ durch <code> p = [2, -2, 1]</code> repräsentiert werden. Da es sich im Grunde um eine Divison mit Rest handelt, soll die Methode eine Liste <code>[quot, rest]</code> zurückgegeben, die den ganzzahligen Quotienten <code>quot</code> und einen eventuellen Rest <code>rest</code> ungleich $0$ beinhaltet. Geht die Division glatt auf, ist <code>rest</code> gleich $0$.\n",
    "\n",
    "Testen Sie Ihre Methode anhand der Polynomdivision $(3x^3-4x^2+7x+138) : (x+3)$. Zur Kontrolle: $(3x^3-4x^2+7x+138) : (x+3) = 3x^2 -13x + 46 $"
   ]
  },
  {
   "cell_type": "code",
   "execution_count": 7,
   "metadata": {},
   "outputs": [],
   "source": [
    "# Polynomdivision\n",
    "\n",
    "def polDiv(p,q):    \n",
    "\n",
    "    if(q[0] == 0):\n",
    "        print('Die Liste des Divisors darf nicht mit 0 beginnen!')\n",
    "        return\n",
    "\n",
    "    ### Code hier ergänzen ###\n",
    "\n",
    "    deg_p = len(p)\n",
    "    deg_q = len(q)\n",
    "\n",
    "    # Falls Restpolynom im Grad kleiner, fertig und Rückgabe\n",
    "    if(deg_q > deg_p):\n",
    "       return [[], p]\n",
    "       \n",
    "    # Polynomdivision Schritt für Schritt\n",
    "    # Zunächst Koeffizient bei Divison bestimmen\n",
    "    coeff = p[0] / q[0]\n",
    "    if(coeff.is_integer() == True):\n",
    "        coeff = int(coeff)\n",
    "        \n",
    "    temp = q.copy()\n",
    "\n",
    "    # Rückwärts multiplizieren und vom Dividend subtrahieren, ersten Koeffizienten aus der Liste schmeißen\n",
    "    for i in range(0, deg_p - deg_q, 1):\n",
    "        temp.append(0)\n",
    "\n",
    "    for j in range(0, deg_p, 1):\n",
    "        p[j] = p[j] - coeff*temp[j]\n",
    "    p.pop(0)\n",
    "\n",
    "    # rekursiv restlichen Koeffizienten und Restpolynom bestimmen\n",
    "    nextCoeffs, rest = polDiv(p,q)\n",
    "\n",
    "    quot = [coeff]\n",
    "    quot.extend(nextCoeffs)\n",
    "\n",
    "    return [quot, rest]\n",
    "\n",
    "    ### Code hier zu ende ###\n",
    "\n",
    "# folgende COde-Zeilen lesen nur einen String eines Polynoms und geben diesen formatiert zurück. Keine Veränderung nötig!\n",
    "def printPol(p):\n",
    "\n",
    "    pol = ''\n",
    "    for i in range(0, len(p), 1):\n",
    "\n",
    "        exp = len(p) - 1 - i\n",
    "        coeff = p[i]\n",
    "\n",
    "        if(coeff > 0):\n",
    "            coeff = '+' + str(coeff)\n",
    "\n",
    "        if(coeff == 0 and exp != 0):\n",
    "            continue\n",
    "\n",
    "        pol += '{c}x^{{{exp}}}'.format(c = coeff, exp = exp)\n",
    "\n",
    "    pol = pol.replace('x^{0}', '')\n",
    "    pol = pol.replace('x^{1}', 'x')\n",
    "    pol = pol.replace('+1x', '+x')\n",
    "    pol = pol.replace('-1x', '-x')\n",
    "        \n",
    "    if(pol.startswith('+')):\n",
    "        pol = pol[1:len(pol)]\n",
    "    \n",
    "    return pol    \n",
    "\n"
   ]
  },
  {
   "cell_type": "code",
   "execution_count": 8,
   "metadata": {},
   "outputs": [
    {
     "data": {
      "text/latex": [
       "$(3x^{3}-4x^{2}+7x+138) : (x+3) = 3x^{2}-13x+46$ mit Rest $0$"
      ],
      "text/plain": [
       "<IPython.core.display.Latex object>"
      ]
     },
     "metadata": {},
     "output_type": "display_data"
    }
   ],
   "source": [
    "# Polynomdivision hier testen\n",
    "p = [3, -4, 7, 138]\n",
    "q = [1, 3]\n",
    "\n",
    "p_print = printPol(p)\n",
    "q_print = printPol(q)\n",
    "\n",
    "quot, rest = polDiv(p,q)\n",
    "\n",
    "quot_print = printPol(quot)\n",
    "rest_print = printPol(rest)\n",
    "\n",
    "display(Latex(r'$({dividend}) : ({divisor}) = {pol}$ mit Rest ${pol2}$'.format(dividend = p_print, divisor = q_print,  pol = quot_print, pol2 = rest_print)))\n"
   ]
  },
  {
   "cell_type": "markdown",
   "metadata": {},
   "source": [
    "## Die Betragsfunktion\n",
    "<a id=\"betragsfunktion\"></a>\n",
    "\n",
    "In vielen Anwendungsgebieten der Mathematik geht es häufiger darum, gute Abschätzungen zu finden. Sie kennen den Betrag als den Abstand zur Null auf dem Zahlenstrahl. In natürlicher Weise können wir dann von einer Betragsfunktion sprechen, wenn wir von einer Funktion $f$ den Betrag $|f|$ untersuchen. Betrachten Sie die Beispiele $f$ und $g$ vom Anfang. Bewegen Sie den Slider und betrachten Sie, was mit dem Punkt $A$ passiert: Was können Sie allgemein über den Verlauf eines Graphen $|f|$ einer Funktion $f$ sagen?"
   ]
  },
  {
   "cell_type": "code",
   "execution_count": 9,
   "metadata": {},
   "outputs": [
    {
     "data": {
      "application/vnd.jupyter.widget-view+json": {
       "model_id": "eba09475d4ac41319a8caacfd6fb892a",
       "version_major": 2,
       "version_minor": 0
      },
      "text/plain": [
       "interactive(children=(Text(value='f', description='graph'), FloatSlider(value=0.0, description='a', max=500.0,…"
      ]
     },
     "execution_count": 9,
     "metadata": {},
     "output_type": "execute_result"
    }
   ],
   "source": [
    "def plot(graph, a):\n",
    "\n",
    "    plt.figure(figsize=(10, 10))\n",
    "\n",
    "    if(graph != 'f' and graph != 'g'):\n",
    "        print('Bitte geben Sie einen zulässigen Graphen an')\n",
    "    else:\n",
    "        x = np.arange(-10, 10, 0.01) \n",
    "        x_p = a/100\n",
    "        y = x**2 -2\n",
    "        y_p = np.abs((a/100)**2-2)\n",
    "        if(graph == 'g'):\n",
    "            y = np.sin(x)\n",
    "            y_p = np.abs(np.sin((a/100)))\n",
    "        plt.plot(x, y, lw=2)\n",
    "        plt.plot(x, np.abs(y), lw=2)\n",
    "        plt.plot(x_p, y_p, marker=\"o\", markersize=10, markeredgecolor=\"red\", markerfacecolor=\"red\")\n",
    "\n",
    "        \n",
    "\n",
    "        ax = plt.subplot()\n",
    "        ax.text(x_p,y_p+1,'$A$', usetex = True, fontsize = 24)\n",
    "        ax.set_aspect('equal')  \n",
    "        ax.axvline(x=0,color=\"k\",ls=\"-\")\n",
    "        ax.axhline(y=0,color=\"k\",ls=\"-\") \n",
    "        plt.xlim(-10, 10)\n",
    "        plt.ylim(-10, 10)\n",
    "        plt.show()\n",
    "\n",
    "            \n",
    "interactive(plot, graph= 'f', a = widgets.FloatSlider(min = -500, max = 500, step = 0.1, value = 0))\n",
    "            "
   ]
  },
  {
   "cell_type": "markdown",
   "metadata": {},
   "source": [
    "Einige Abschätzungen können analytisch direkt bestimmt werden. So können einfache Typen von Betragsungleichungen durch Fallunterscheidungen gelöst werden, was an einem einfachen Beispiel vorgezeigt werden soll. Betrachten Sie die Ungleichung $$ |x+3| \\geqslant |2x -4|.$$ Im Folgenden lösen wir diese Ungleichung über Fallunterscheidungen: \n",
    "\n",
    "1. Fall: $x+3 \\geqslant 0 \\iff x \\geqslant -3$ und $ 2x -4 \\geqslant 0 \\iff x \\geqslant 2$. Wir erhalten durch Auflösung der Beträge $$\\begin{align*} x+3 &\\geqslant 2x-4 \\\\ \\iff \\quad -x &\\geqslant -7 \\\\ \\iff \\quad x &\\leqslant 7,\\end{align*}$$\n",
    "    also muss insgesamt $x \\in [2,7]$ sein.\n",
    "\n",
    "2. Fall $x+3 < 0 \\iff x < -3$ und $ 2x -4 \\geqslant 0 \\iff x \\geqslant 2$. Das liefert einen Widerspruch, denn kein $x \\in \\Reals$ erfüllt diese ungleichung.\n",
    "\n",
    "3. Fall $x+3 < 0 \\iff x < -3$ und $ 2x -4 < 0 \\iff x < 2$ usw.\n",
    "\n",
    "Führt man die Rechnungen fort, so muss man nur noch alle Lösungen pro Fall vereinigen und kommt insgesamt auf $x \\in \\left[\\dfrac{1}{3},7\\right]$ als Lösung heraus.<br>\n",
    "\n",
    "<div style= \"color: black;background-color: powderblue ;margin: 10 px auto; padding: 10px; border-radius: 10px\">\n",
    "    <p style=\"font-size:12pt; text-align:center; color:   black; background-color: lightskyblue ;margin: 10 px auto; padding: 10px; border-radius: 10px\" id=\"1\"><b>Aufgabe 4</b>  </p> \n",
    "\n",
    "1. Berechnen Sie, für welche $x \\in \\Reals$ die Ungleichung $|x-5| \\leqslant |3x-4|$ erfüllt ist. Geben Sie mindestens ein $x \\in \\Reals$ in der Code-Zelle an, für das die Ungleichung erfüllt ist.\n",
    "\n",
    "2. Berechnen Sie, in welchen Intervallen der Graph der Funktion $f$ mit $f(x) = |x^2-3|$ oberhalb der Ursprungsgeraden $g$ mit $g(x)=x$ liegt. Geben Sie mindestens einen Wert $x$ in die Code-Zelle ein und überprüfen Sie ihre Eingabe."
   ]
  },
  {
   "cell_type": "code",
   "execution_count": 10,
   "metadata": {},
   "outputs": [
    {
     "data": {
      "text/latex": [
       "Ihre Lösung $x = -2$ ist korrekt."
      ],
      "text/plain": [
       "<IPython.core.display.Latex object>"
      ]
     },
     "metadata": {},
     "output_type": "display_data"
    }
   ],
   "source": [
    "# Teilaufgabe 1\n",
    "\n",
    "x = -2\n",
    "\n",
    "left = np.abs(x-5)\n",
    "right = np.abs(3*x-4)\n",
    "\n",
    "if(left < right):\n",
    "    display(Latex(r'Ihre Lösung $x = {x}$ ist korrekt.'.format(x = x)))\n",
    "else:\n",
    "    display(Latex(r'Ihre Lösung $x = {x}$ ist nicht korrekt.'.format(x = x)))"
   ]
  },
  {
   "cell_type": "code",
   "execution_count": 11,
   "metadata": {},
   "outputs": [
    {
     "data": {
      "text/latex": [
       "Ihre Lösung $x = 4$ ist nicht korrekt."
      ],
      "text/plain": [
       "<IPython.core.display.Latex object>"
      ]
     },
     "metadata": {},
     "output_type": "display_data"
    }
   ],
   "source": [
    "# Teilaufgabe 2\n",
    "x = 4\n",
    "\n",
    "left = np.abs(x**2-5)\n",
    "right = x\n",
    "\n",
    "if(left < right):\n",
    "    display(Latex(r'Ihre Lösung $x = {x}$ ist korrekt.'.format(x = x)))\n",
    "else:\n",
    "    display(Latex(r'Ihre Lösung $x = {x}$ ist nicht korrekt.'.format(x = x)))"
   ]
  },
  {
   "cell_type": "markdown",
   "metadata": {},
   "source": [
    "### Die Exponentialfunktion\n",
    "<a id=\"exponentialfunktion\"></a>\n",
    "\n",
    "Eine alte indische Legende beschrieb bereits die Ausmaße, die exponentielles Wachstum annehmen würde. Teil dieser Legende war, dass man auf einem Schachbrett mit einem Reiskorn beginnt. Pro weiteres Feld wird jeweils die doppelte Menge an Reiskörnern verlangt, d.h. man hätte fortlaufend $2, 4, 8, 16, \\dots$ Reiskörner auf dem Schachbrett liegen. Mit insgesamt $63$ Verdopplungen würde man schließlich auf eine Menge von $2^{63}$ Reiskörnern kommen, was ca. $9 \\cdot 10^{18}$ Reiskörnern entspricht. Das ist eine Größenordnung, die weit über die jährliche Reisernte hinausgeht. Formal sollen Sie sich im Folgenden mathematisch mit der Exponentialfunktion $f$ gegeben durch $$f(x) = b\\cdot a^x$$ für eine positive, relle Zahl $a$ und $b\\in \\Reals \\setminus \\lbrace 0 \\rbrace$ auseinandersetzen.\n",
    "\n",
    " <div style= \"color: black;background-color: powderblue ;margin: 10 px auto; padding: 10px; border-radius: 10px\">\n",
    "    <p style=\"font-size:12pt; text-align:center; color:   black; background-color: lightskyblue ;margin: 10 px auto; padding: 10px; border-radius: 10px\" id=\"1\"><b>Aufgabe 5</b>  </p> \n",
    "\n",
    "1. Bestimmen Sie Nullstellen und den $y$-Achsenabschnitt der Funktion $f$ mit $f(x) = 2^x - 2.$\n",
    "\n",
    "2. Eine Bakterienkultur zum Zeitpunkt $t = 0$ weist einen Bestand von 2500 Einheiten auf. Nach $5$ min sind es schon 4500 Einheiten. Stellen Sie eine Gleichung auf, die die Bakterienkultur <i>pro Minute</i> erfasst. Geben Sie anschließend an, wie viele Bakterien ungefähr nach $12$ min vorzufinden sind. \n",
    "\n",
    "3. Eine ganz besondere Exponentialfunktion stellt die natürlich Exponentialfunktion zur Basis $e = 2{,}718281828...$ dar. Dabei geht die irrationale Zahl $e$ als Grenzwert einer speziellen Folge hervor: Es ist $$e = \\lim_{n \\to \\infty} \\left( 1 + \\frac{1}{n}\\right)^n$$\n",
    "   i. Berechnen Sie das $1$., $10.$, $100.$ und $1000.$ Folgenglied. Was können Sie über die Konvergenzgeschwindigkeit aussagen?\n",
    "   \n",
    "   ii. Schreiben Sie eine Funktion <code>exp(n)</code>, die die $n$-te Partialsumme $\\displaystyle \\sum_{k = 0}^{n} \\dfrac{1}{k!}$ zum Laufindex $n$ ausgibt. <i>Hinweis</i>: Mit $k!$ ist die Fakultät gemeint, welche als Hilfsfunktion gegeben ist. Führen Sie anschließend die Code-Zelle aus. Nutzen Sie den Slider, um Ihre Beobachtunge aufzuschreiben. Was stellen Sie für große $n$ fest? \n",
    "\n",
    "4. Schreiben Sie eine Funktion <code>tolerance(t)</code>, die die Anzahl $n$ angibt, wie viele Folgenglieder es der Partialsumme benötigt, damit die Annäherung zu $e =$ <code>np.exp(1)</code> unter $t$ fällt. Denken Sie daran, dass Sie den Betrag verwenden sollten."
   ]
  },
  {
   "cell_type": "code",
   "execution_count": 12,
   "metadata": {},
   "outputs": [
    {
     "data": {
      "application/vnd.jupyter.widget-view+json": {
       "model_id": "cf1d8377a9e748a399c963dd3b93c06f",
       "version_major": 2,
       "version_minor": 0
      },
      "text/plain": [
       "interactive(children=(IntSlider(value=1, description='n', min=1), Output()), _dom_classes=('widget-interact',)…"
      ]
     },
     "execution_count": 12,
     "metadata": {},
     "output_type": "execute_result"
    }
   ],
   "source": [
    "# Teilaufgabe 3\n",
    "\n",
    "def factorial(x):\n",
    "    result = 1\n",
    "    for i in range(1, x + 1):\n",
    "        result = result * i\n",
    "    return result\n",
    "\n",
    "def partialsum(n):\n",
    "\n",
    "    ### Hier Code einfügen \n",
    "    result = 0\n",
    "    for k in range(n):\n",
    "        result += 1 / factorial(k)\n",
    "    return result\n",
    "\n",
    "    ###\n",
    "\n",
    "def plot(n):\n",
    "        \n",
    "        plt.figure(figsize=(6, 6))\n",
    "        ax = plt.subplot() \n",
    "        ax.axvline(x=0,color=\"k\",ls=\"-\")\n",
    "        ax.axhline(y=0,color=\"k\",ls=\"-\") \n",
    "        ax.axhline(partialsum(n),color=\"k\",ls=\"-\")     \n",
    "\n",
    "        for i in range(n):\n",
    "            x = i\n",
    "            y = partialsum(x)\n",
    "            plt.plot(x, y, marker =\"o\", markersize=5, markeredgecolor=\"red\", markerfacecolor=\"red\")\n",
    "        \n",
    "        plt.xlim(0, 100)\n",
    "        plt.ylim(0, 3)\n",
    "        print('Zum Wert n =', n, 'liegt eine Partialsumme', y, 'vor')\n",
    "        plt.show()\n",
    "\n",
    "            \n",
    "interactive(plot, n = widgets.IntSlider(min = 1, max = 100, step = 1, value = 1))"
   ]
  },
  {
   "cell_type": "code",
   "execution_count": 13,
   "metadata": {},
   "outputs": [
    {
     "data": {
      "text/latex": [
       "Damit die Partialsumme $\\displaystyle \\sum_{k = 0}^{n} \\dfrac{1}{k!}$ zum Wert $e$ eine Abweichung von weniger als 0.0001 aufweist, muss $n = 8$ sein."
      ],
      "text/plain": [
       "<IPython.core.display.Latex object>"
      ]
     },
     "metadata": {},
     "output_type": "display_data"
    }
   ],
   "source": [
    "# Teilaufgabe 4\n",
    "\n",
    "def tolerance(t):\n",
    "\n",
    "    ### Code hier einfügen\n",
    "    \n",
    "    n = 1\n",
    "    approx = partialsum(n)\n",
    "    e = np.exp(1)\n",
    "    result = np.abs(approx-e)\n",
    "\n",
    "    while(result >= t):\n",
    "        n = n + 1\n",
    "        approx = partialsum(n)\n",
    "        result = np.abs(approx-e)\n",
    "        \n",
    "    return n\n",
    "\n",
    "    ###\n",
    "\n",
    "t = 0.0001\n",
    "n = tolerance(t)\n",
    "\n",
    "display(Latex(r'Damit die Partialsumme $\\displaystyle \\sum_{{k = 0}}^{{n}} \\dfrac{{1}}{{k!}}$ zum Wert $e$ eine Abweichung von weniger als {t} aufweist, muss $n = {n}$ sein.'.format(t = t, n = n)))"
   ]
  },
  {
   "cell_type": "markdown",
   "metadata": {},
   "source": [
    "### Die Umkehrfunktion: injektiv, surjektiv und bijektiv!\n",
    "<a id=\"umkehrfunktion\"></a>\n",
    "\n",
    "Manche von Ihnen kennen den Logarithmus aus der Schule bereits. Er stellt eine Möglichkeit dar, Exponentialgleichungen zu lösen, etwa $$ 2^x = 8 \\iff x = \\log_2(8) = 3.$$ In dieser Art und Weise sieht sich der natürliche Logarithmus $\\ln(x)$ als Gegenpol zur natürlichen Exponentialfunktion $e^x$, indem $e^x = 2 \\iff x = \\ln(2)$ gilt. Weiterhin wissen Sie, dass man quadratische Gleichungen mithilfe der Wurzel lösen kann. Beispielsweise ist die Gleichung $$ x^2-2x+1 = 0$$ durch $x = 1 \\pm \\sqrt{1-1} = 1$ gelöst. Was haben all diese Rechenverfahren gemeinsam? Es handelt sich um Umkehrungen von Rechenoperationen!\n",
    "\n",
    "Man sagt, eine Funktionen $f(x)$ ist umkehrbar, wenn sie die Eigenschaft der <i>Bijektivität</i> erfüllt. Bijektivität ist dann nur eine Zusammenführung der Eigenschaften <i>injektiv</i> und <i>surjektiv</i>. Bevor Sie sich demnach mit der Umkehrung von Funktionen beschäftigen, sollen Sie zunächst Injektivität und Surjektivität vertiefen.\n",
    "\n",
    "\n",
    "### Injektivität und Surjektivität\n",
    "\n",
    "Anhand des Graphen einer Funktion kann man im Wesentlichen schnell die Injektivität nachprüfen. Sie sagt aus, dass jeder Bildpunkt höchstens einen Urbildpunkt besitzen darf. Geometrisch darf also jede Gerade parallel zur $x$-Achse den Graphen horizontal höchstens einmal schneiden. Surjektivität dagegen verlangt, dass jeder Wert aus dem Wertebereich auch Bildpunkt der Funktion ist. Schauen Sie sich ein Beispiel dazu an: Gegeben ist die Funktion $$f \\colon [0, \\infty) \\longrightarrow \\Reals,\\\\ x \\mapsto \\sqrt{x}.$$ Dann ist $f$ injektiv, aber nicht surjektiv. Woran liegt das? Nimmt man sich zwei Werte $x_1, x_2 \\in [0, \\infty)$ her mit $f(x_1) = f(x_2)$, dann gilt $$f(x_1) = f(x_2) \\iff \\sqrt{x_1} = \\sqrt{x_2} \\implies x_1 = x_2.$$ Folglich hat jeder Bildpunkt höchstens einen Urbildpunkt. Umgekehrt wähle $-1 \\in \\Reals$, dann finden wir kein $x \\in [0, \\infty)$ mit $0 < f(x) = \\sqrt{x} = -1$. Die Funktion $f$ kann ergo nicht surjektiv sein. \n",
    "\n",
    "Allerdings gilt: Schränkt man den Wertebereich einer Funktion auf ihren Bildbereich ein, so wird diese automatisch surjektiv. Gleiches gilt für den Definitionsbereich. Bei ausreichender Einschränkung kann eine Funktion injektiv werden.\n",
    "\n",
    "<div style= \"color: black;background-color: powderblue ;margin: 10 px auto; padding: 10px; border-radius: 10px\">\n",
    "    <p style=\"font-size:12pt; text-align:center; color:   black; background-color: lightskyblue ;margin: 10 px auto; padding: 10px; border-radius: 10px\" id=\"1\"><b>Aufgabe 6</b>  </p> \n",
    "\n",
    "1. Führen Sie den Code aus und bewegen Sie die entsprechenden Slider. Überlegen Sie sich, ob die zum Graphen gehörige Funktion injektiv und/oder surjektiv sein muss oder nichts von beidem erfüllt. Beantworten Sie anschließend die Frage funk_01 im STACK-Modul.\n",
    "\n",
    "2. Schränken Sie den Definitionsbereich so ein, dass die abgebildete Funktion injektiv wird. Nutzen Sie dafür die vorgesehenen Slider.\n",
    "\n",
    "2. Zeigen Sie, dass die Funktion $f$ mit $f(x) = x^3 -1 $ injektiv und surjektiv ist."
   ]
  },
  {
   "cell_type": "code",
   "execution_count": 14,
   "metadata": {},
   "outputs": [
    {
     "data": {
      "application/vnd.jupyter.widget-view+json": {
       "model_id": "eba4c272508a4efcac8ca1149439131d",
       "version_major": 2,
       "version_minor": 0
      },
      "text/plain": [
       "interactive(children=(IntSlider(value=1, description='graph', max=3, min=1), FloatSlider(value=0.0, descriptio…"
      ]
     },
     "execution_count": 14,
     "metadata": {},
     "output_type": "execute_result"
    }
   ],
   "source": [
    "# Teilaufgabe 1\n",
    "def injective_surjective(graph, slider):\n",
    "\n",
    "        plt.figure(figsize=(10, 10))\n",
    "\n",
    "        x = np.arange(-10, 10, 0.01)\n",
    "        y = x\n",
    "        c = slider\n",
    "        t = Symbol('t')\n",
    "\n",
    "        if(graph == 1):\n",
    "                term = '$f(x) = x$'\n",
    "                tx, ty = (-7.5,7.5)\n",
    "                xp = c\n",
    "                yp = c\n",
    "\n",
    "        if(graph == 2):\n",
    "                term = '$f(x) = x^2-5$'\n",
    "                tx, ty = (-7.5,-7.5)\n",
    "                y = x**2-5\n",
    "\n",
    "                if(c >= -5):\n",
    "                        xp = [-np.sqrt(c+5), np.sqrt(c+5)]\n",
    "                        yp = [c, c]\n",
    "                else:\n",
    "                        xp = 100\n",
    "                        yp = 100\n",
    "\n",
    "\n",
    "        if(graph == 3):\n",
    "                term = '$f(x) = \\displaystyle \\\\frac{{1}}{{x}}$'\n",
    "                tx, ty = (-8.5, 7.5)\n",
    "                x = np.arange(-10, 10, 0.01)\n",
    "                y = 2/x\n",
    "                t = Symbol('t')\n",
    "                if(c != 0):\n",
    "                        xp = 2/c\n",
    "                        yp = c\n",
    "                else:\n",
    "                        xp = 100\n",
    "                        yp = 100\n",
    "\n",
    "                        \n",
    "        plt.plot(x, y, markeredgecolor=\"blue\", markerfacecolor=\"blue\")\n",
    "        plt.plot(xp, yp, marker=\"o\", markersize=7, markeredgecolor=\"red\", markerfacecolor=\"red\")\n",
    "\n",
    "    \n",
    "        ax = plt.subplot()\n",
    "        ax.set_aspect('equal')  \n",
    "        ax.axvline(x=0,color=\"k\",ls=\"-\")\n",
    "        ax.axhline(y=0,color=\"k\",ls=\"-\") \n",
    "        ax.axhline(c, color=\"r\",ls=\"--\") \n",
    "        ax.text(tx,ty,'{term}'.format(term = term), usetex = True, fontsize = 20)\n",
    "\n",
    "        plt.xlim(-10, 10)\n",
    "        plt.ylim(-10, 10)\n",
    "        plt.show()\n",
    "\n",
    "            \n",
    "interactive(injective_surjective, graph = widgets.IntSlider(min = 1, max = 3, step = 1, value = 1), slider = widgets.FloatSlider(min = -10, max = 10, step = 0.01, value = 0))"
   ]
  },
  {
   "cell_type": "code",
   "execution_count": 15,
   "metadata": {},
   "outputs": [
    {
     "data": {
      "application/vnd.jupyter.widget-view+json": {
       "model_id": "38e7d71d3d2f43d9b3188b7c0b5c89f9",
       "version_major": 2,
       "version_minor": 0
      },
      "text/plain": [
       "interactive(children=(FloatSlider(value=-10.0, description='left', max=10.0, min=-10.0, step=0.01), FloatSlide…"
      ]
     },
     "execution_count": 15,
     "metadata": {},
     "output_type": "execute_result"
    }
   ],
   "source": [
    "# Teilaufgabe 2\n",
    "def restriction(left, right):\n",
    "        if(left < right):\n",
    "\n",
    "                plt.figure(figsize=(10, 10))\n",
    "                x_ = np.arange(-10, 10, 0.01)\n",
    "                x = np.arange(left, right, 0.01)\n",
    "                y = 0.125*x**3+0.75*x**2-x-1\n",
    "                y_ = 0.125*x_**3+0.75*x_**2-x_-1\n",
    "\n",
    "                ax = plt.subplot()                    \n",
    "                plt.plot(x_, y_, color = 'gray', ls = '--', linewidth = 0.75)\n",
    "                plt.plot(x, y, color = 'b', linewidth = 1)\n",
    "\n",
    "                ax.set_aspect('equal')  \n",
    "                ax.axvline(x=0,color=\"k\",ls=\"-\")\n",
    "                ax.axvline(x=left,color=\"r\",ls=\"--\", linewidth = 0.75)\n",
    "                ax.axvline(x=right,color=\"r\",ls=\"--\", linewidth = 0.75)\n",
    "                ax.axhline(y=0,color=\"k\",ls=\"-\") \n",
    "                ax.text(-9,9,'$f(x) = 0.125x^3+0.75x^2-x-1$', usetex = True, fontsize = 14)\n",
    "\n",
    "                print('f wird auf den Bereich [{left}, {right}] eingeschränkt.'.format(left = np.round(left, decimals=3), right = np.round(right, decimals=2)))\n",
    "                plt.xlim(-10, 10)\n",
    "                plt.ylim(-10, 10)\n",
    "                plt.show()\n",
    "        else:\n",
    "                print('Bitte Intervallgrenzen beachten!')\n",
    "\n",
    "interactive(restriction, left = widgets.FloatSlider(min = -10, max = 10, step = 0.01, value = -10), right = widgets.FloatSlider(min = -10, max = 10, step = 0.01, value = 10))"
   ]
  },
  {
   "cell_type": "markdown",
   "metadata": {},
   "source": [
    "### Bijektivitität\n",
    "\n",
    "Weiß man, dass eine Funktion injektiv und surjektiv und damit <i>bijektiv</i> ist, kann man sich das Ziel setzen, eine Umkehrfunktion zu finden. Für Polynomfunktionen lässt sich eingeschränkt eine geschlossene Formel finden, bei der Exponentialfunktion $e^x$ benötigt man bereits einen eigenen Namen $\\ln$ für die Umkehrfunktion. Arbeiten Sie folgendes Beispiel zur Veranschaulichung durch, um im Anschluss eigenständig Umkehrfunktionen zu bestimmen: Gegeben ist die bijektive Funktion $$f \\colon [1, \\infty) \\longrightarrow [0, \\infty), \\quad f(x) = x^2-2x+1$$ Führen Sie anschließend die Code-Zelle aus, um sich den Graphen der Funktion $f$ in blau ausgeben zu lassen. Bewegen Sie den Slider und verfolgen Sie, was mit dem eingezeichneten blauen Punkt passiert. Der dazugehörige rote Punkt verläuft auf dem Graphen der Umkehrfunktion."
   ]
  },
  {
   "cell_type": "code",
   "execution_count": 16,
   "metadata": {},
   "outputs": [
    {
     "data": {
      "application/vnd.jupyter.widget-view+json": {
       "model_id": "b92cbf9f212c4bfbbb3c327a3a178454",
       "version_major": 2,
       "version_minor": 0
      },
      "text/plain": [
       "interactive(children=(FloatSlider(value=0.0, description='slider', max=10.0, step=0.01), Output()), _dom_class…"
      ]
     },
     "execution_count": 16,
     "metadata": {},
     "output_type": "execute_result"
    }
   ],
   "source": [
    "# Teilaufgabe 1\n",
    "def inverse(slider):\n",
    "\n",
    "        plt.figure(figsize=(7.5, 7.5))\n",
    "\n",
    "        x = np.arange(1, 10, 0.01)\n",
    "        y = x**2-2*x+1\n",
    "\n",
    "        x_inv = np.arange(0, slider, 0.01)\n",
    "        y_inv = np.sqrt(x_inv)+1\n",
    "        \n",
    "        xp = slider\n",
    "        yp = np.sqrt(xp)+1\n",
    "\n",
    "        line_x = np.arange(0, 10,0.01)\n",
    "        line_y = line_x\n",
    "\n",
    "        plt.plot(line_x, line_y, color = 'gray', ls = '--', linewidth = 1)                      \n",
    "        plt.plot(x, y,color = 'b', linewidth = 1.5)\n",
    "        plt.plot(x_inv, y_inv, color = 'r', linewidth = 1.5)\n",
    "        \n",
    "        plt.plot(yp, xp, marker=\"o\", markersize=7, markeredgecolor=\"blue\", markerfacecolor=\"blue\")\n",
    "        plt.plot(xp, yp, marker=\"o\", markersize=7, markeredgecolor=\"red\", markerfacecolor=\"red\")\n",
    "   \n",
    "        ax = plt.subplot()\n",
    "        ax.set_aspect('equal')  \n",
    "        ax.axvline(x=0,color=\"k\",ls=\"-\")\n",
    "        ax.axhline(y=0,color=\"k\",ls=\"-\") \n",
    "\n",
    "        plt.xlim(0, 10)\n",
    "        plt.ylim(0, 10)\n",
    "        plt.show()\n",
    "\n",
    "            \n",
    "interactive(inverse, slider = widgets.FloatSlider(min = 0, max = 10, step = 0.01, value = 0))"
   ]
  },
  {
   "cell_type": "markdown",
   "metadata": {},
   "source": [
    "Es ist zu erkennen, dass jeder Bildpunkt von $f$ entlang der Ursprungsgeraden gespiegelt wird! Das hilft uns, sofern möglich, eine geschlosene Formel für die Umkehrfunktion zu finden, denn die Idee ist schließlich, die Rollen der Koordinaten $x$ und $y$ eines Bildpunktes zu vertauschen. Also müssen wir nur $y = f(x)$ nach $x$ umformen (unter der Berücksichtung des Definitionsbereichs):\n",
    "\n",
    "$$\\begin{align*} &\\quad x^2-2x+1  = y \\\\ \\iff &\\quad (x-1)^2 = y \\\\ \\iff &\\quad x-1 = \\sqrt{y} \\\\ \\iff &\\quad x = \\sqrt{y} + 1 \\end{align*}$$ \n",
    "\n",
    "Mit anderen Worten, die Umkehrfunktion $f^{-1}$ hat den Funktionsterm $f^{-1}(x) = \\sqrt{x} + 1.$\n",
    "\n",
    "<div style= \"color: black;background-color: powderblue ;margin: 10 px auto; padding: 10px; border-radius: 10px\">\n",
    "    <p style=\"font-size:12pt; text-align:center; color:   black; background-color: lightskyblue ;margin: 10 px auto; padding: 10px; border-radius: 10px\" id=\"1\"><b>Aufgabe 7</b>  </p> \n",
    "\n",
    "1. Skizzieren Sie den Graphen der Umkehrfunktion zu $f \\colon [0, \\infty) \\longrightarrow [0, \\infty) $ mit $f(x) = xe^{x^2} $. Nutzen Sie dafür die Code-Zelle, um sich den Graphen von $f$ ausgeben zu lassen.\n",
    "\n",
    "2. Bearbeiten Sie die STACK-Aufgabe funk_02"
   ]
  },
  {
   "cell_type": "code",
   "execution_count": 17,
   "metadata": {},
   "outputs": [
    {
     "data": {
      "image/png": "[encoded data removed]",
      "text/plain": [
       "<Figure size 500x500 with 1 Axes>"
      ]
     },
     "metadata": {},
     "output_type": "display_data"
    }
   ],
   "source": [
    "# Teilaufgabe 1\n",
    "\n",
    "def plot():\n",
    "\n",
    "    plt.figure(figsize=(5, 5))\n",
    "\n",
    "    x = np.arange(0, 10, 0.01)\n",
    "    y = x*np.exp(1)**(x**2)\n",
    "\n",
    "    ax = plt.subplot()                    \n",
    "    plt.plot(x, y, color = 'b', linewidth = 1)\n",
    "\n",
    "    ax.set_aspect('equal')  \n",
    "    ax.axvline(x=0,color=\"k\",ls=\"-\")\n",
    "    ax.axhline(y=0,color=\"k\",ls=\"-\") \n",
    "    plt.xlim(0, 5)\n",
    "    plt.ylim(0, 5)\n",
    "    plt.show()\n",
    "\n",
    "plot()"
   ]
  },
  {
   "cell_type": "markdown",
   "metadata": {},
   "source": [
    "### Die Arkussinus-Funktion\n",
    "<a id=\"arkussinus\"></a>\n",
    "\n",
    "Es ist klar, dass die Sinus-Funktion $\\sin \\colon \\Reals \\longrightarrow \\Reals$ auf den gegebenen Definitions- und Wertebereichen nicht umkehrbar ist. Beachtet man, dass $-1 \\leq \\sin(x) \\leq 1$ für alle $x \\in \\Reals$ gilt und auch jeder Wert $[-1,1]$ von der Sinus-Funktion getroffen wird, so sollte der Wertebereich auf $W = [-1,1]$ eingeschränkt werden. \n",
    "\n",
    "<div style= \"color: black;background-color: powderblue ;margin: 10 px auto; padding: 10px; border-radius: 10px\">\n",
    "    <p style=\"font-size:12pt; text-align:center; color:   black; background-color: lightskyblue ;margin: 10 px auto; padding: 10px; border-radius: 10px\" id=\"1\"><b>Aufgabe 8</b>  </p> \n",
    "\n",
    "Entnehmen Sie anhand der Code-Zelle einen sinnvollen, <i> maximalen </i> Definitionsbereich um die $0$ herum, infolgedessen der Sinus umkehrbar wird. Erinnern Sie Sich dazu daran, welche Eigenschaft einer Funktion im Allgemeinen erfüllt sein muss, wenn die graue, gestrichelte Kurve die Spiegelung des Graphen der Sinus-Funktion an der Ursprungsgeraden darstellt."
   ]
  },
  {
   "cell_type": "code",
   "execution_count": 18,
   "metadata": {},
   "outputs": [
    {
     "data": {
      "application/vnd.jupyter.widget-view+json": {
       "model_id": "7f91f280faea4f12b0f3a1d7497ce4a6",
       "version_major": 2,
       "version_minor": 0
      },
      "text/plain": [
       "interactive(children=(FloatSlider(value=-6.283185307179586, description='left', max=6.283185307179586, min=-6.…"
      ]
     },
     "execution_count": 18,
     "metadata": {},
     "output_type": "execute_result"
    }
   ],
   "source": [
    "pi = np.pi\n",
    "\n",
    "def arcsin(left, right):\n",
    "        if(left < right):\n",
    "                plt.figure(figsize=(10, 10))\n",
    "\n",
    "                pi = np.pi\n",
    "\n",
    "                x = np.arange(left, right, 0.01)\n",
    "                y = np.sin(x)\n",
    "\n",
    "                y_inv = np.arange(left, right, 0.01)\n",
    "                x_inv = np.sin(y_inv)\n",
    " \n",
    "                x_sin = np.arange(-10,10,0.01)\n",
    "                y_sin = np.sin(x_sin)\n",
    "\n",
    "  \n",
    "                plt.plot(x_sin, y_sin, color = 'gray', ls = '--', linewidth = 1)      \n",
    "                plt.plot(x_inv, y_inv, color = 'gray', linewidth = 1.5, ls = '--')\n",
    "\n",
    "                plt.plot(x, y,color = 'b', linewidth = 1.5)\n",
    "                ax = plt.subplot()\n",
    "                if(left >= -pi/2 and right <= pi/2):\n",
    "                        plt.plot(x_inv, y_inv, color = 'r', linewidth = 1.5)\n",
    "\n",
    "                alpha = np.arange(-2 * pi, 2 * pi+pi/2, step=(pi / 2))\n",
    "\n",
    "                ax.axvline(x=0,color=\"k\",ls=\"-\")\n",
    "                ax.axvline(x=left, color=\"gray\",ls=\"--\", linewidth = 1)\n",
    "                ax.axvline(x=right, color=\"gray\",ls=\"--\", linewidth = 1)\n",
    "                ax.axhline(y=0,color=\"k\",ls=\"-\") \n",
    "                plt.xticks(alpha, ['-2π', '-3π/2', 'π', '-π/2', '0', 'π/2', 'π', '3π/2', '2π'])\n",
    "                plt.xlim(-2*np.pi, 2*np.pi)\n",
    "                plt.ylim(-2*np.pi, 2*np.pi)\n",
    "                plt.show()\n",
    "        else:\n",
    "                print('Bitte Intervallgrenzen beachten!')\n",
    "\n",
    "interactive(arcsin, left = widgets.FloatSlider(min = -2*pi, max = 2*pi, step = 0.01, value = -2*pi), right = widgets.FloatSlider(min = -10, max = 10, step = 0.01, value = 2*pi))"
   ]
  },
  {
   "cell_type": "markdown",
   "metadata": {},
   "source": [
    "Das liefert die Umkehrung der Sinus-Funktion, genannt <i>Arkussinus</i> $$\\arcsin \\colon [-1, 1] \\longrightarrow \\left[ -\\frac{\\pi}{2}, \\frac{\\pi}{2} \\right], \\quad x \\mapsto \\arcsin(x).$$ In Python können Sie Werte der Arkussinus-Funktion mithilfe von <code>numpy</code> berechnen:"
   ]
  },
  {
   "cell_type": "code",
   "execution_count": 19,
   "metadata": {},
   "outputs": [
    {
     "data": {
      "text/latex": [
       "$\\arcsin(-1) = -1.5707963267948966$"
      ],
      "text/plain": [
       "<IPython.core.display.Latex object>"
      ]
     },
     "metadata": {},
     "output_type": "display_data"
    }
   ],
   "source": [
    "x = -1 # x muss zwischen -1 und 1 sein\n",
    "\n",
    "value = np.arcsin(x) # Aufruf der Arkussinus-Funktion über numpy\n",
    "display(Latex((r'$\\arcsin({x}) = {value}$'.format(x = x, value = value))))"
   ]
  },
  {
   "cell_type": "markdown",
   "metadata": {},
   "source": [
    "<div style= \"color: black;background-color: powderblue ;margin: 10 px auto; padding: 10px; border-radius: 10px\">\n",
    "    <p style=\"font-size:12pt; text-align:center; color:   black; background-color: lightskyblue ;margin: 10 px auto; padding: 10px; border-radius: 10px\" id=\"1\"><b>Aufgabe 9</b>  </p> \n",
    "\n",
    "Bearbeiten Sie die STACK-Aufgabe funk_04."
   ]
  },
  {
   "cell_type": "markdown",
   "metadata": {},
   "source": [
    "In einem Basketball-Verein wird der Ballwurf trainiert. Jede:r Spieler:in stellt dazu die Körpergröße und die Abwurfgeschwindigkeit bereit, allerdings liegen die Abwurfwinkel jeweils in einem Bereich von $30°$ bis $80°$, weshalb der Korb nicht immer getroffen wird. Schauen Sie sich exemplarisch für 3 Spieler:innen das Wurfszenario an. Initialisieren Sie dazu die Parameter zuerst und führen anschließend die folgende Code-Zelle aus:"
   ]
  },
  {
   "cell_type": "code",
   "execution_count": 20,
   "metadata": {},
   "outputs": [],
   "source": [
    "# Parameter initialisieren\n",
    "\n",
    "h = [1.89, 2.13, 1.78] # Größe in m\n",
    "v = [7.6, 7.5, 7.8] # Geschwindigkeit in m/s\n",
    "g = 9.81 # Erdbeschleunigung in m/s^2"
   ]
  },
  {
   "cell_type": "code",
   "execution_count": 21,
   "metadata": {},
   "outputs": [
    {
     "data": {
      "application/vnd.jupyter.widget-view+json": {
       "model_id": "1f546026bad34ff68bca84cdb8f80b61",
       "version_major": 2,
       "version_minor": 0
      },
      "text/plain": [
       "interactive(children=(IntSlider(value=0, description='number', max=2), FloatSlider(value=0.5235987755982988, d…"
      ]
     },
     "execution_count": 21,
     "metadata": {},
     "output_type": "execute_result"
    }
   ],
   "source": [
    "def basketball(number, theta):\n",
    "    \n",
    "    xp = 0\n",
    "    yp = h[number]\n",
    "\n",
    "    t = np.arange(0, 2, 0.01)\n",
    "    x = v[number]*np.cos(theta)*t\n",
    "    y = h[number] + v[number]*np.sin(theta)*t - 0.5*g*t**2    \n",
    "\n",
    "    x_points = np.array([3.8, 4.2, 4.3, 3.7])\n",
    "    y_points = np.array([2.5, 2.5, 3, 3])\n",
    "\n",
    "    plt.figure(figsize=(10, 10))\n",
    "    ax = plt.subplot()\n",
    "    ax.axvline(x=0,color=\"gray\",ls=\"-\")\n",
    "    ax.axhline(y=0,color=\"k\",ls=\"-\") \n",
    "    plt.plot(x, y, color = 'b', linewidth = 1.5)\n",
    "    plt.plot(xp, yp, marker =\"o\", markersize = 15, markeredgecolor=\"red\", markerfacecolor=\"red\")\n",
    "  \n",
    "    size = len(x_points)\n",
    "    for i in range(size):\n",
    "      ax.plot([x_points[i], x_points[(i+1) % size]], \n",
    "              [y_points[i], y_points[(i+1) % size]], linewidth=2, color = 'g')\n",
    "\n",
    "    \n",
    "    plt.xlim(-1, 6)\n",
    "    plt.ylim(0, 5)\n",
    "    plt.show()\n",
    "\n",
    "interactive(basketball, number = widgets.IntSlider(min = 0, max = 2, step = 1, value = 0), theta = widgets.FloatSlider(min = 30/360*2*pi, max = 80/360*2*pi, step = 0.01, value = 30/360*2*pi))\n"
   ]
  },
  {
   "cell_type": "markdown",
   "metadata": {},
   "source": [
    "<div style= \"color: black;background-color: powderblue ;margin: 10 px auto; padding: 10px; border-radius: 10px\">\n",
    "    <p style=\"font-size:12pt; text-align:center; color:   black; background-color: lightskyblue ;margin: 10 px auto; padding: 10px; border-radius: 10px\" id=\"1\"><b>Aufgabe 10</b>  </p> \n",
    "\n",
    "Das Training sieht nun vor, dass der Basketball beim Abwurf im Winkel $\\theta$ mindestens eine Höhe von $h_{min} = 4$ m  und maximal $h_{max} =  5$ m erreicht. Die Flugkurve des Basketballs in horizontaler und vertikaler Richtung pro Zeiteinheit $t$ in $s$ kann beschrieben werden durch $$ x(t) = v \\cdot \\cos(\\theta) \\cdot t, \\quad y(t) = h + v\\cdot \\sin(\\theta) \\cdot t - \\frac{1}{2}\\cdot g \\cdot t^2,$$ wobei mit $g \\approx 9{,}81 \\frac{m}{s^2}$ die Erdbeschleunigung, $v$ die Abwurfgeschwindigkeit und $h$ die Höhe zum Start des Abwurfs meinen. Der Basketballkorb soll nach wie vor in $l = 4$ m Entfernung und $h_k = 3$ m Höhe zur Abwurfposition stehen. Schreiben Sie eine Methode <code>calculateAngle(h, v)</code>, die in Abhängigkeit von der Spieler:ingröße $h$ und Abwurfgeschwindigkeit $v$ einen Winkel $\\theta$ bestimmt, sodass der Basketball unter genannten Bedingungen etwa durch die Mitte des Korbs fällt. Existiert solch ein Winkel nicht, geben Sie $0$ zurück. Sie dürfen dabei verwenden, dass der Basketball zum Zeitpunkt $$t_0 = \\displaystyle \\frac{l}{v \\cdot \\cos(\\theta)} $$ seinen höchsten Punkt erreicht."
   ]
  },
  {
   "cell_type": "code",
   "execution_count": 22,
   "metadata": {},
   "outputs": [
    {
     "data": {
      "text/latex": [
       "Der Winkel muss $\\alpha = 1.14$ bzw. $\\alpha\\prime = 65.24°$ sein"
      ],
      "text/plain": [
       "<IPython.core.display.Latex object>"
      ]
     },
     "metadata": {},
     "output_type": "display_data"
    }
   ],
   "source": [
    "def calculateAngle(h, v):\n",
    "\n",
    "    # Parameter aus der Aufgabe festlegen\n",
    "    pi = np.pi\n",
    "    g = 9.81\n",
    "    l = 4\n",
    "    h_min = 4\n",
    "    h_max = 5\n",
    "\n",
    "    # Randfälle für h abgreifen\n",
    "    if(h >= 5 or h < 0):\n",
    "        return [0, 0]\n",
    "\n",
    "    range_min = np.min([1, np.sqrt((2*(h_min-h)*g)/(v**2))])\n",
    "    range_max = np.min([1, np.sqrt((2*(h_max-h)*g)/(v**2))])   \n",
    "\n",
    "    # Abwurfwinkel berechnen, damit Mindesthöhe erreicht wird. Maximum vom Winkel beachten\n",
    "    theta_min = np.arcsin(range_min)\n",
    "    theta_max = np.arcsin(range_max)\n",
    "\n",
    "\n",
    "    # Prüfen, ob Winkel auch den Korb ca. mittig trifft.\n",
    "    theta = theta_min\n",
    "    while(theta <= theta_max):\n",
    "\n",
    "        t = l / (v * np.cos(theta))\n",
    "        y = h + v * np.sin(theta) * t - 0.5 * g * t**2\n",
    "\n",
    "        if(y >= 2.9 and y <= 3.1):\n",
    "           break\n",
    "        theta = theta + 0.01\n",
    "\n",
    "    # Falls Winkel Gültigkeitsbereich verlässt, 0 zurückgeben\n",
    "    if(theta > theta_max):\n",
    "        theta = 0\n",
    "\n",
    "    return [theta, theta / (2 * pi) * 360]\n",
    "\n",
    "\n",
    "# Methode testen\n",
    "bogenmaß, gradmaß = calculateAngle(1.78, 7.8)\n",
    "\n",
    "display(Latex(r'Der Winkel muss $\\alpha = {alpha}$ bzw. $\\alpha\\prime = {beta}°$ sein'.format( alpha = round(bogenmaß, 2), beta = round(gradmaß, 2))))\n",
    "    "
   ]
  }
 ],
 "metadata": {
  "colab": {
   "collapsed_sections": [],
   "provenance": []
  },
  "kernelspec": {
   "display_name": "Python 3 (ipykernel)",
   "language": "python",
   "name": "python3"
  },
  "language_info": {
   "codemirror_mode": {
    "name": "ipython",
    "version": 3
   },
   "file_extension": ".py",
   "mimetype": "text/x-python",
   "name": "python",
   "nbconvert_exporter": "python",
   "pygments_lexer": "ipython3",
   "version": "3.10.9"
  }
 },
 "nbformat": 4,
 "nbformat_minor": 1
}
