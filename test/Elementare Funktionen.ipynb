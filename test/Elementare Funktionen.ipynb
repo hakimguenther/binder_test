{
 "cells": [
  {
   "cell_type": "markdown",
   "metadata": {},
   "source": [
    "<b>Ausgabedatum:</b> 02.11.2022 <br>\n",
    "<b>Abgabedautm:</b>  09.11.2022 <br>\n",
    "Für Rückfragen zum Übungsbetrieb wenden Sie sich an: mustermann@w-hs.de<br><br>\n",
    "\n",
    "<p>In diesem Notebook sollen sie noch einmal wesentliche, elementare Funktionen aus der Schule wiederholen und trainieren.\n",
    "\n",
    "<b> Python Grundlagen: </b> Einfache Schleifen, Plots. <br>\n",
    "<b> Math. Grundlagen:</b>  Abiturniveau <br>\n",
    "\n",
    "<b>Inhaltsverzeichniss:</b> <br>\n",
    "<ul>\n",
    " <li><a href=\"#trigonometrie\">Trigonometrie: Sinus, Kosinus und Tangens</a></li>\n",
    "\n",
    "</ul>\n",
    "</p> "
   ]
  },
  {
   "cell_type": "code",
   "execution_count": 2,
   "metadata": {},
   "outputs": [],
   "source": [
    "# Import der benötigten Module\n",
    "import numpy as np\n",
    "import matplotlib.pyplot as plt\n",
    "from IPython.display import display, Latex\n",
    "from ipywidgets import interactive, widgets\n",
    "\n",
    "pi = np.pi"
   ]
  },
  {
   "cell_type": "markdown",
   "metadata": {},
   "source": [
    "### Trigonometrie: Sinus, Kosinus und Tangens\n",
    "<a id=\"trigonometrie\"></a>\n",
    "\n",
    "In der digitalen Signalverarbeitung kommt die trigonometrische Sinus-Funktion zum Einsatz. Dabei hat der Sinus, wie auch der Kosinus, seinen Ursprung in der Geometrie: Da durch Ähnlichkeit Längenverhältnisse bestehen bleiben, können in rechtwinkligen Dreiecken die Verhältnisse von Gegenkathete und Ankathete zur Hypotenuse anhand eines Winkels $\\alpha$ festgelegt werden. \n",
    "\n",
    "<center><img src=\"trigonometrie.png\"  width=\"30%\" height=\"30%\"></center><br>\n",
    "\n",
    "Daher wird definiert:\n",
    "$$ \\sin(\\alpha) = \\frac{\\text{Gegenkathete}}{\\text{Hypotenuse}}, \\quad \\cos(\\alpha) = \\frac{\\text{Ankathete}}{\\text{Hypotenuse}}$$\n",
    "\n",
    "Bei den Längenverhäktnissen ist es üblich, mit dem Bogenmaß zu rechnen. Eine Vollkreisumdrehung entspricht dann nicht mehr dem Winkel $360°$, sondern dem Winkel $2\\pi$. Folglich kann jeder Wert $x \\in [0, 2\\pi]$ im Bogenmaß ins Gradmaß durch $\\alpha = \\alpha(x) = \\displaystyle \\frac{x}{2\\pi}\\cdot 360°$ angegeben werden. \n",
    "\n",
    "Lässt man sowohl negative Winkel als auch Winkel größer als $2\\pi$ zu, so erhält man die Winkelfunktionen $$\\sin \\colon \\mathbb{R} \\longrightarrow \\mathbb{R} \\quad \\text{und} \\quad \\cos \\colon \\mathbb{R} \\longrightarrow \\mathbb{R}.$$ Kennzeichnend dieser Winkelfunktionen ist die Periodizität, d.h. Funktionswerte wiederholen sich periodisch nach einer \"Zeitspanne\" $T$, wobei der Kosinus <i>phasenverschoben</i> zum Sinus liegt. Führen Sie nachstehenden Code aus und notieren Sie sich, was mit \"phasenverschoben\" gemeint ist:"
   ]
  },
  {
   "cell_type": "code",
   "execution_count": 10,
   "metadata": {},
   "outputs": [
    {
     "data": {
      "application/vnd.jupyter.widget-view+json": {
       "model_id": "db5ab35f1aa1478bb36ec85bb1254918",
       "version_major": 2,
       "version_minor": 0
      },
      "text/plain": [
       "interactive(children=(FloatSlider(value=0.0, description='x', max=12.566370614359172, step=0.01), Output()), _…"
      ]
     },
     "execution_count": 10,
     "metadata": {},
     "output_type": "execute_result"
    }
   ],
   "source": [
    "# Code-Zelle ausführen\n",
    "def plot(x):\n",
    "\n",
    "        # Größe der Visualisierung\n",
    "        plt.figure(figsize=(7.5, 7.5))\n",
    "\n",
    "        # Koordinaten bestimmen\n",
    "        t = np.arange(0, x, 0.01)\n",
    "        y1 = np.sin(t)\n",
    "        y2 = np.cos(t)\n",
    "\n",
    "        # Sinus- und Kosinuskurve plotten \n",
    "        ax = plt.subplot()\n",
    "        ax.axvline(x=0,color=\"k\",ls=\"-\")\n",
    "        ax.axhline(y=0,color=\"k\",ls=\"-\") \n",
    "        plt.plot(t, y1, color = 'g', linewidth = 1.5, label = 'sin')\n",
    "        plt.plot(t, y2, color = 'r', linewidth = 1.5, label = 'cos')\n",
    "\n",
    "        plt.plot(x, np.sin(x), marker=\"o\", markersize=7, markeredgecolor=\"blue\", markerfacecolor=\"blue\")\n",
    "        plt.xlim(0, 4*np.pi)\n",
    "        plt.ylim(-2, 2)\n",
    "\n",
    "        alpha = np.arange(0, 4*pi+pi/2, step = (pi / 2))\n",
    "        plt.xticks(alpha, ['0', 'π/2', 'π', '3π/2', '2π', '5π/2', '3π', '7π/2', '4π'])\n",
    "\n",
    "        print('sin(x) = {value_y1} an der Stelle x = {value_x}π\\ncos(x) = {value_y2} an der Stelle x = {value_x}π'.format(value_x = np.round(x/(np.pi),2), value_y1 = np.sin(x), value_y2 = np.cos(x)))\n",
    "        plt.show()\n",
    "\n",
    "            \n",
    "interactive(plot, x = widgets.FloatSlider(min = 0, max = 4*pi, step = 0.01, value = 0))"
   ]
  },
  {
   "cell_type": "markdown",
   "metadata": {},
   "source": [
    "<div style= \"color: black;background-color: powderblue ;margin: 10 px auto; padding: 10px; border-radius: 10px\">\n",
    "    <p style=\"font-size:12pt; text-align:center; color:   black; background-color: lightskyblue ;margin: 10 px auto; padding: 10px; border-radius: 10px\" id=\"1\"><b>Aufgabe 8</b>  </p> \n",
    "\n",
    "2. Bearbeiten Sie die STACK-Aufgabe funk_03\n",
    "\n",
    "1. Schreiben Sie eine Funktion <code>transformSin(a, b, c, d)</code>, die die Sinus Funktion anhand der Parameter $a,b,c,d \\in \\Reals$ folgendermaßen transformiert: Der Parameter $a$ bestimmt, in welche Richtung\n",
    "\n"
   ]
  },
  {
   "cell_type": "code",
   "execution_count": 8,
   "metadata": {},
   "outputs": [
    {
     "data": {
      "application/vnd.jupyter.widget-view+json": {
       "model_id": "9d1b32dca8ac48538cc514f5b7740071",
       "version_major": 2,
       "version_minor": 0
      },
      "text/plain": [
       "interactive(children=(FloatSlider(value=1.0, description='a', max=2.0, min=-2.0, step=0.01), FloatSlider(value…"
      ]
     },
     "execution_count": 8,
     "metadata": {},
     "output_type": "execute_result"
    }
   ],
   "source": [
    "# Teilaufgabe 1\n",
    "def transformSin(a, b, c, d):\n",
    "\n",
    "    plt.figure(figsize=(7.5, 7.5))\n",
    "\n",
    "    ### Code hier einfügen \n",
    "    x = np.arange(-100, 100, 0.01)\n",
    "    y = a*np.sin(b*x+c)+d\n",
    "    ###\n",
    "\n",
    "    plt.plot(x, y,color = 'b', linewidth = 1.5)\n",
    "    ax = plt.subplot()\n",
    "    ax.axvline(x=0,color=\"k\",ls=\"-\")\n",
    "    ax.axhline(y=0,color=\"k\",ls=\"-\") \n",
    "    plt.xlim(0, 4*np.pi)\n",
    "    plt.ylim(-2, 2)\n",
    "    plt.show()\n",
    "   \n",
    "interactive(transformSin, a = widgets.FloatSlider(min = -2, max = 2, step = 0.01, value = 1), b = widgets.FloatSlider(min = -10, max = 10, step = 0.01, value = 1), c = widgets.FloatSlider(min = -10, max = 10, step = 0.01, value = 0), d = widgets.FloatSlider(min = -1, max = 1, step = 0.01, value = 0))\n",
    "    "
   ]
  },
  {
   "cell_type": "markdown",
   "metadata": {},
   "source": [
    "### Diffie-Hellmann und Babystep-Giantstep-Algorithmus"
   ]
  },
  {
   "cell_type": "code",
   "execution_count": null,
   "metadata": {},
   "outputs": [],
   "source": [
    "def discreteLog(a, b, p):\n",
    "\n",
    "    n = int(np.ceil(np.sqrt(p)))\n",
    "    exp = 0\n",
    "\n",
    "    for i in range(n+1):\n",
    "        x = a**i % p\n",
    "        for j in range(n+1):\n",
    "            y = (a**(j*n) % p)\n",
    "            z = (b * inverse(y, p)) % p\n",
    "            if(x == z):\n",
    "                exp = i + j*n\n",
    "                break\n",
    "    text = r'Der diskrete Logarithmus von $[{b}]_p$ zur Basis $[{a}]_p$ lautet $x = {exp}$'.format(a = a, b = b, p = p, exp = exp)\n",
    "    return text\n",
    "\n",
    "\n",
    "def inverse(x, p):\n",
    "    n = 1\n",
    "    result = (n * x) % p\n",
    "    while(result != 1):\n",
    "        n = n + 1\n",
    "        result = (n * x) % p\n",
    "    return n\n",
    "\n",
    "\n",
    "\n",
    "display(Latex((discreteLog(5, 19, 23))))"
   ]
  }
 ],
 "metadata": {
  "kernelspec": {
   "display_name": "base",
   "language": "python",
   "name": "python3"
  },
  "language_info": {
   "codemirror_mode": {
    "name": "ipython",
    "version": 3
   },
   "file_extension": ".py",
   "mimetype": "text/x-python",
   "name": "python",
   "nbconvert_exporter": "python",
   "pygments_lexer": "ipython3",
   "version": "3.10.9"
  },
  "orig_nbformat": 4
 },
 "nbformat": 4,
 "nbformat_minor": 2
}
